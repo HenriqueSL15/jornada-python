version https://git-lfs.github.com/spec/v1
oid sha256:76a57af06583aade0fa58b5d2d8c32fee119dac22d69cb62a7874bcc927bd1ed
size 8860847
